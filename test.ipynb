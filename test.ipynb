{
 "cells": [
  {
   "cell_type": "code",
   "execution_count": null,
   "id": "b5fd39ee",
   "metadata": {},
   "outputs": [],
   "source": [
    "import numpy as np\\ print("yes")"
   ]
  },
  {
   "cell_type": "code",
   "execution_count": null,
   "id": "60f7792c",
   "metadata": {},
   "outputs": [],
   "source": []
  }
 ],
 "metadata": {
  "kernelspec": {
   "display_name": "base",
   "language": "python",
   "name": "python3"
  },
  "language_info": {
   "name": "python",
   "version": "3.11.5"
  }
 },
 "nbformat": 4,
 "nbformat_minor": 5
}
